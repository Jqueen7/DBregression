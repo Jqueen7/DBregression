{
 "cells": [
  {
   "cell_type": "code",
   "execution_count": 1,
   "metadata": {},
   "outputs": [],
   "source": [
    "import pandas as pd\n",
    "import numpy as np\n",
    "import matplotlib.pyplot as plt\n",
    "from fredapi import Fred\n",
    "fred = Fred(api_key='b6fbbe38921358076e9b7c60d3ffc1ed')"
   ]
  },
  {
   "cell_type": "code",
   "execution_count": 11,
   "metadata": {},
   "outputs": [],
   "source": [
    "GS10 = fred.get_series('GS10')\n",
    "df = pd.DataFrame(GS10, columns=['GS10'])\n"
   ]
  },
  {
   "cell_type": "code",
   "execution_count": 15,
   "metadata": {},
   "outputs": [
    {
     "data": {
      "text/plain": [
       "1953-04-01    2.83\n",
       "1953-05-01    3.05\n",
       "1953-06-01    3.11\n",
       "1953-07-01    2.93\n",
       "1953-08-01    2.95\n",
       "              ... \n",
       "2022-08-01    2.90\n",
       "2022-09-01    3.52\n",
       "2022-10-01    3.98\n",
       "2022-11-01    3.89\n",
       "2022-12-01    3.62\n",
       "Length: 837, dtype: float64"
      ]
     },
     "execution_count": 15,
     "metadata": {},
     "output_type": "execute_result"
    }
   ],
   "source": [
    "GS10"
   ]
  },
  {
   "cell_type": "code",
   "execution_count": 13,
   "metadata": {},
   "outputs": [
    {
     "data": {
      "text/html": [
       "<div>\n",
       "<style scoped>\n",
       "    .dataframe tbody tr th:only-of-type {\n",
       "        vertical-align: middle;\n",
       "    }\n",
       "\n",
       "    .dataframe tbody tr th {\n",
       "        vertical-align: top;\n",
       "    }\n",
       "\n",
       "    .dataframe thead th {\n",
       "        text-align: right;\n",
       "    }\n",
       "</style>\n",
       "<table border=\"1\" class=\"dataframe\">\n",
       "  <thead>\n",
       "    <tr style=\"text-align: right;\">\n",
       "      <th></th>\n",
       "      <th>GS10</th>\n",
       "    </tr>\n",
       "  </thead>\n",
       "  <tbody>\n",
       "    <tr>\n",
       "      <th>2022-08-01</th>\n",
       "      <td>2.90</td>\n",
       "    </tr>\n",
       "    <tr>\n",
       "      <th>2022-09-01</th>\n",
       "      <td>3.52</td>\n",
       "    </tr>\n",
       "    <tr>\n",
       "      <th>2022-10-01</th>\n",
       "      <td>3.98</td>\n",
       "    </tr>\n",
       "    <tr>\n",
       "      <th>2022-11-01</th>\n",
       "      <td>3.89</td>\n",
       "    </tr>\n",
       "    <tr>\n",
       "      <th>2022-12-01</th>\n",
       "      <td>3.62</td>\n",
       "    </tr>\n",
       "  </tbody>\n",
       "</table>\n",
       "</div>"
      ],
      "text/plain": [
       "            GS10\n",
       "2022-08-01  2.90\n",
       "2022-09-01  3.52\n",
       "2022-10-01  3.98\n",
       "2022-11-01  3.89\n",
       "2022-12-01  3.62"
      ]
     },
     "execution_count": 13,
     "metadata": {},
     "output_type": "execute_result"
    }
   ],
   "source": [
    "df.tail()"
   ]
  },
  {
   "cell_type": "code",
   "execution_count": 14,
   "metadata": {},
   "outputs": [],
   "source": [
    "tickers = ['DGS2','T10Y2YM','BAMLC0A2CAAEY','BAMLC0A4CBBBEY','FEDFUNDS',\n",
    "           'CORESTICKM159SFRBATL','DPCCRV1Q225SBEA','EXPINF1YR','EXPINF5YR',\n",
    "           'PCOPPUSDM','POILWTIUSDM','PCOALAUUSDM','PALUMUSDM','PIORECRUSDM', # 금 제외\n",
    "           'RTWEXBGS','UNRATE','A191RP1Q027SBEA'] # 중국 gdp growth 제외"
   ]
  },
  {
   "cell_type": "code",
   "execution_count": 17,
   "metadata": {},
   "outputs": [
    {
     "name": "stdout",
     "output_type": "stream",
     "text": [
      "Loaded DGS2 data!\n",
      "Loaded T10Y2YM data!\n",
      "Loaded BAMLC0A2CAAEY data!\n",
      "Loaded BAMLC0A4CBBBEY data!\n",
      "Loaded FEDFUNDS data!\n",
      "Loaded CORESTICKM159SFRBATL data!\n",
      "Loaded DPCCRV1Q225SBEA data!\n",
      "Loaded EXPINF1YR data!\n",
      "Loaded EXPINF5YR data!\n",
      "Loaded PCOPPUSDM data!\n",
      "Loaded POILWTIUSDM data!\n",
      "Loaded PCOALAUUSDM data!\n",
      "Loaded PALUMUSDM data!\n",
      "Loaded PIORECRUSDM data!\n",
      "Loaded RTWEXBGS data!\n",
      "Loaded UNRATE data!\n",
      "Loaded A191RP1Q027SBEA data!\n"
     ]
    }
   ],
   "source": [
    "for t in tickers:\n",
    "    temp_series = fred.get_series(t)\n",
    "    temp_df = pd.DataFrame(temp_series, columns=[t])\n",
    "    df = df.join(temp_df)\n",
    "    print(f'Loaded {t} data!')\n"
   ]
  },
  {
   "cell_type": "code",
   "execution_count": 20,
   "metadata": {},
   "outputs": [
    {
     "data": {
      "text/plain": [
       "2022-03-01    NaN\n",
       "2022-04-01    8.5\n",
       "2022-05-01    NaN\n",
       "2022-06-01    NaN\n",
       "2022-07-01    7.7\n",
       "2022-08-01    NaN\n",
       "2022-09-01    NaN\n",
       "2022-10-01    NaN\n",
       "2022-11-01    NaN\n",
       "2022-12-01    NaN\n",
       "Name: A191RP1Q027SBEA, dtype: float64"
      ]
     },
     "execution_count": 20,
     "metadata": {},
     "output_type": "execute_result"
    }
   ],
   "source": [
    "df['A191RP1Q027SBEA'].tail(10)"
   ]
  },
  {
   "cell_type": "code",
   "execution_count": null,
   "metadata": {},
   "outputs": [],
   "source": []
  }
 ],
 "metadata": {
  "kernelspec": {
   "display_name": "base",
   "language": "python",
   "name": "python3"
  },
  "language_info": {
   "codemirror_mode": {
    "name": "ipython",
    "version": 3
   },
   "file_extension": ".py",
   "mimetype": "text/x-python",
   "name": "python",
   "nbconvert_exporter": "python",
   "pygments_lexer": "ipython3",
   "version": "3.8.12"
  },
  "orig_nbformat": 4,
  "vscode": {
   "interpreter": {
    "hash": "db3f9596c5aba5087c9c8d1f1b99adecf5bd2d533081155cfbf15515ccfe8efa"
   }
  }
 },
 "nbformat": 4,
 "nbformat_minor": 2
}
