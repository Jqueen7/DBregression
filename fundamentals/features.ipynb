{
 "cells": [
  {
   "cell_type": "code",
   "execution_count": 78,
   "metadata": {},
   "outputs": [],
   "source": [
    "import pandas as pd\n",
    "import numpy as np\n",
    "import yfinance as yf\n",
    "from pandas_datareader import data as pdr\n",
    "yf.pdr_override()\n",
    "from datetime import timedelta\n",
    "\n",
    "institution = 'Berkshire Hathaway Inc'\n",
    "company = 'AAPL'\n",
    "stocks_use = ['WFC', 'KO', 'AXP', 'IBM', 'WMT', 'PG', 'XOM', 'USB', 'DVA', 'GS', 'MCO', 'GHC', 'GM', 'BK', 'COP', 'PSX', 'NOV', 'MTB', 'VRSN', 'VZ', 'COST', 'DE', 'V', 'GL', 'LBTYA', 'MA', 'LBTYK', 'GE', 'SNY', 'VRSK', 'JNJ', 'MDLZ', 'UPS', 'LEE', 'LBRDA', 'QSR', 'FWONK', 'DNOW', 'KHC', 'AAPL', 'AXTA', 'KMI', 'LILA', 'LILAK', 'CHTR', 'LUV', 'DAL', 'AAL', 'UAL', 'SIRI', 'BAC', 'SYF', 'TEVA', 'STOR', 'JPM', 'PNC', 'AMZN', 'TRV', 'KR', 'OXY', 'BIIB', 'RH', 'CVX', 'ABBV', 'BMY', 'MRK', 'AON', 'TMUS', 'MMC', 'ATVI', 'HPQ', 'C', 'PARA', 'CE', 'MCK', 'MKL', 'ALLY', 'FND', 'FWONA', 'T', 'ORCL', 'PFE', 'TSM', 'LPX', 'JEF']\n"
   ]
  },
  {
   "cell_type": "code",
   "execution_count": 114,
   "metadata": {},
   "outputs": [
    {
     "data": {
      "text/plain": [
       "85"
      ]
     },
     "execution_count": 114,
     "metadata": {},
     "output_type": "execute_result"
    }
   ],
   "source": [
    "len(stocks_use)"
   ]
  },
  {
   "cell_type": "code",
   "execution_count": 82,
   "metadata": {},
   "outputs": [],
   "source": [
    "features = ['ROA(NI)',\n",
    "'ROA(OI)',\n",
    "'ROA(EBITDA)',\n",
    "'ROE(NI)',\n",
    "'ROE(OI)',\n",
    "'ROE(EBITDA)',\n",
    "'PER (P/E)',\n",
    "'PBR (P/B)',\n",
    "'EV/EBITDA',\n",
    "'PCR',\n",
    "'Cash Conversion Cycle (CCC)',\n",
    "'Cash Flow To Debt Ratio',\n",
    "'Cash Flow To Liability Ratio',\n",
    "'Operating Cash Flow Per Share',\n",
    "'Operating Cash Flow Ratio',\n",
    "'Asset Efficiency Ratio',\n",
    "'Current Liability Coverage Ratio',\n",
    "'Interest Coverage Ratio',\n",
    "'Cash Generating Power Ratio',\n",
    "'External Financing Index Ratio',\n",
    "'FCFE',\n",
    "'Debt Ratio',\n",
    "\"Cash Flow to Shareholder's Equity\",\n",
    "'Cash Flow  to Revenue Ratio',\n",
    "'Asset Turnover Ratio',\n",
    "'Capital Stock Turnover Ratio',\n",
    "'Liability Turnover Ratio',\n",
    "'Total Liabilites Growth Rate',\n",
    "'Total Assets Growth Rate',\n",
    "'Sales Growth Rate',\n",
    "'EPS Growth',\n",
    "'COGS Ratio']"
   ]
  },
  {
   "cell_type": "code",
   "execution_count": 103,
   "metadata": {},
   "outputs": [
    {
     "data": {
      "text/plain": [
       "Index(['Unnamed: 0', 'Revenue', 'COGS', 'Gross Profit', 'SG&A',\n",
       "       'Operating Income', 'Net Income', 'EPS', 'Shares', 'Cash & Equivalents',\n",
       "       'Current Assets', 'Long Term Assets', 'Total Assets', 'Current Debt',\n",
       "       'Current Liabilities', 'Long Term Debt', 'Long Term Liabilities',\n",
       "       'Total Liabilities', 'Shareholders Equity', 'Depreciation',\n",
       "       'Operating Cash Flow', 'Investing cash flow', 'Dividends',\n",
       "       'Financing cash flow', 'Price'],\n",
       "      dtype='object')"
      ]
     },
     "execution_count": 103,
     "metadata": {},
     "output_type": "execute_result"
    }
   ],
   "source": [
    "jpm = pd.read_csv(f'./{institution}/JPM_FS.csv')\n",
    "jpm.columns"
   ]
  },
  {
   "cell_type": "code",
   "execution_count": 95,
   "metadata": {},
   "outputs": [],
   "source": [
    "df = pd.read_csv(f'./{institution}/AAPL_FS.csv')\n",
    "standard = list(df.columns)"
   ]
  },
  {
   "cell_type": "code",
   "execution_count": 101,
   "metadata": {},
   "outputs": [
    {
     "data": {
      "text/plain": [
       "30"
      ]
     },
     "execution_count": 101,
     "metadata": {},
     "output_type": "execute_result"
    }
   ],
   "source": [
    "len(standard)"
   ]
  },
  {
   "cell_type": "code",
   "execution_count": 99,
   "metadata": {},
   "outputs": [
    {
     "name": "stdout",
     "output_type": "stream",
     "text": [
      "['EBITDA', 'EBIT', 'Receivables', 'Inventory', 'Capital Expenditure'] not in WFC F/S\n",
      "['EBITDA', 'EBIT', 'Receivables', 'Inventory'] not in AXP F/S\n",
      "['EBITDA', 'EBIT', 'Receivables', 'Inventory', 'Capital Expenditure'] not in USB F/S\n",
      "['Inventory'] not in GS F/S\n",
      "['Inventory'] not in MCO F/S\n",
      "['EBITDA', 'EBIT', 'Receivables', 'Inventory'] not in BK F/S\n",
      "['EBITDA', 'EBIT', 'Receivables', 'Inventory'] not in MTB F/S\n",
      "['Inventory'] not in VRSN F/S\n",
      "['Inventory'] not in V F/S\n",
      "['Inventory'] not in GL F/S\n",
      "['Inventory'] not in LBTYA F/S\n",
      "['Inventory'] not in MA F/S\n",
      "['Inventory'] not in LBTYK F/S\n",
      "['Inventory'] not in VRSK F/S\n",
      "['Inventory'] not in LBRDA F/S\n",
      "['Inventory'] not in FWONK F/S\n",
      "['Inventory'] not in LILA F/S\n",
      "['Operating Income', 'EBIT', 'Inventory', 'Long Term Assets', 'Long Term Liabilities', 'Capital Expenditure'] not in LILAK F/S\n",
      "['Inventory'] not in CHTR F/S\n",
      "['EBITDA', 'EBIT', 'Receivables', 'Inventory'] not in BAC F/S\n",
      "['EBITDA', 'EBIT', 'Receivables', 'Inventory'] not in SYF F/S\n",
      "['Inventory'] not in STOR F/S\n",
      "['EBITDA', 'EBIT', 'Receivables', 'Inventory', 'Capital Expenditure'] not in JPM F/S\n",
      "['EBITDA', 'EBIT', 'Receivables', 'Inventory', 'Capital Expenditure'] not in PNC F/S\n",
      "['Inventory'] not in TRV F/S\n",
      "['Inventory'] not in AON F/S\n",
      "['COGS', 'Inventory'] not in MMC F/S\n",
      "['EBITDA', 'EBIT', 'Receivables', 'Inventory'] not in C F/S\n",
      "['SG&A', 'Inventory'] not in MKL F/S\n",
      "['EBITDA', 'EBIT', 'Receivables', 'Inventory', 'Capital Expenditure'] not in ALLY F/S\n",
      "['Inventory'] not in FWONA F/S\n",
      "['Inventory'] not in JEF F/S\n"
     ]
    }
   ],
   "source": [
    "for s in stocks_use:\n",
    "    dis = []\n",
    "    df = pd.read_csv(f'./{institution}/{s}_FS.csv')\n",
    "    now = list(df.columns)\n",
    "    for k in standard:\n",
    "        if k not in now:\n",
    "            dis.append(k)\n",
    "    if dis != []:\n",
    "        print(f'{dis} not in {s} F/S')"
   ]
  },
  {
   "cell_type": "code",
   "execution_count": 115,
   "metadata": {},
   "outputs": [
    {
     "name": "stdout",
     "output_type": "stream",
     "text": [
      "WFC Missing 5 Variables\n",
      "AXP Missing 4 Variables\n",
      "USB Missing 5 Variables\n",
      "GS Missing 1 Variables\n",
      "MCO Missing 1 Variables\n",
      "BK Missing 4 Variables\n",
      "MTB Missing 4 Variables\n",
      "VRSN Missing 1 Variables\n",
      "V Missing 1 Variables\n",
      "GL Missing 1 Variables\n",
      "LBTYA Missing 1 Variables\n",
      "MA Missing 1 Variables\n",
      "LBTYK Missing 1 Variables\n",
      "VRSK Missing 1 Variables\n",
      "LBRDA Missing 1 Variables\n",
      "FWONK Missing 1 Variables\n",
      "LILA Missing 1 Variables\n",
      "LILAK Missing 4 Variables\n",
      "CHTR Missing 1 Variables\n",
      "BAC Missing 4 Variables\n",
      "SYF Missing 4 Variables\n",
      "STOR Missing 1 Variables\n",
      "JPM Missing 5 Variables\n",
      "PNC Missing 5 Variables\n",
      "TRV Missing 1 Variables\n",
      "AON Missing 1 Variables\n",
      "MMC Missing 2 Variables\n",
      "C Missing 4 Variables\n",
      "MKL Missing 1 Variables\n",
      "ALLY Missing 5 Variables\n",
      "FWONA Missing 1 Variables\n",
      "JEF Missing 1 Variables\n",
      "Successfully Saved 85 Datas\n"
     ]
    }
   ],
   "source": [
    "cnt = 0\n",
    "for s in stocks_use:\n",
    "    df = pd.read_csv(f'./{institution}/{s}_FS.csv')\n",
    "    df.rename(columns = {'Unnamed: 0':'date'}, inplace=True)\n",
    "    for i in range(len(df)):\n",
    "        tmp = df['date'].values[i].split('-')\n",
    "        day = tmp[0]+'-'+tmp[1]+'-01'\n",
    "        df['date'].values[i] = pd.to_datetime(day)\n",
    "    df = df.set_index('date')\n",
    "    \n",
    "    try:\n",
    "        df['ROA(NI)'] = df['Net Income']/df['Total Assets']\n",
    "    except:\n",
    "        pass\n",
    "    try:\n",
    "        df['ROA(OI)'] = df['Operating Income']/df['Total Assets']\n",
    "    except:\n",
    "        pass\n",
    "    try:\n",
    "        df['ROA(EBITDA)'] = df['EBITDA']/df['Total Assets']\n",
    "    except:\n",
    "        pass\n",
    "    try:\n",
    "        df['ROE(NI)'] = df['Net Income']/df['Shareholders Equity']\n",
    "    except:\n",
    "        pass\n",
    "    try:\n",
    "        df['ROE(OI)'] = df['Operating Income']/df['Shareholders Equity']\n",
    "    except:\n",
    "        pass\n",
    "    try:\n",
    "        df['ROE(EBITDA)'] = df['EBITDA']/df['Shareholders Equity']\n",
    "    except:\n",
    "        pass\n",
    "    try:\n",
    "        df['PER (P/E)'] = df['Price']/df['EPS']\n",
    "    except:\n",
    "        pass\n",
    "    try:\n",
    "        df['PBR (P/B)'] = df['Price']*df['Shares']/df['Shareholders Equity']\n",
    "    except:\n",
    "        pass\n",
    "    try:\n",
    "        df['EV/EBITDA'] = (df['Total Assets']-df['Cash & Equivalents'])/df['EBITDA']\n",
    "    except:\n",
    "        pass\n",
    "    try:\n",
    "        df['PCR'] = df['Price']/(df['Net Income']+df['Depreciation'])/df['Shares']\n",
    "    except:\n",
    "        pass\n",
    "    try:\n",
    "        df['Interest Coverage Ratio']=df['Operating Income']/(df['Operating Cash Flow']-df['Net Income']-df['Depreciation'])\n",
    "    except:\n",
    "        pass\n",
    "    try:\n",
    "        df['Cash Conversion Cycle (CCC)'] = 365/(df['Receivables']/df['Revenue'])+365/(df['Current Debt']/df['COGS'])+365/(df['Inventory']/df['COGS'])\n",
    "    except:\n",
    "        pass\n",
    "    try:\n",
    "        df['Cash Flow To Debt Ratio'] = df['Operating Cash Flow']/df['Long Term Debt']\n",
    "    except:\n",
    "        pass\n",
    "    try:\n",
    "        df['Cash Flow To Liability Ratio'] = df['Operating Cash Flow']/df['Total Liabilities']\n",
    "    except:\n",
    "        pass\n",
    "    try:\n",
    "        df['Operating Cash Flow Per Share'] = df['Operating Cash Flow']/df['Shares']\n",
    "    except:\n",
    "        pass\n",
    "    try:\n",
    "        df['Operating Cash Flow Ratio'] = df['Operating Cash Flow']/df['Revenue']\n",
    "    except:\n",
    "        pass\n",
    "    try:\n",
    "        df['Asset Efficiency Ratio'] = df['Operating Cash Flow']/df['Total Assets']\n",
    "    except:\n",
    "        pass\n",
    "    try:\n",
    "        df['Current Liability Coverage Ratio'] = (df['Operating Cash Flow']-df['Dividends'])/df['Current Liabilities']\n",
    "    except:\n",
    "        pass\n",
    "    try:\n",
    "        df['Cash Generating Power Ratio'] = df['Operating Cash Flow']/(df['Operating Cash Flow']+df['Investing cash flow']+df['Financing cash flow'])\n",
    "    except:\n",
    "        pass\n",
    "    try:\n",
    "        df['External Financing Index Ratio'] = df['Financing cash flow']/df['Operating Cash Flow']\n",
    "    except:\n",
    "        pass\n",
    "    try:\n",
    "        df['FCFE'] = df['Operating Cash Flow']-df['Capital Expenditure']\n",
    "    except:\n",
    "        pass\n",
    "    try:\n",
    "        df['Debt Ratio'] = df['Total Liabilities']/df['Shareholders Equity']\n",
    "    except:\n",
    "        pass\n",
    "    try:\n",
    "        df[\"Cash Flow to Shareholder's Equity\"] = df['Operating Cash Flow']/df['Shareholders Equity']\n",
    "    except:\n",
    "        pass\n",
    "    try:\n",
    "        df['Cash Flow  to Revenue Ratio'] = df['Operating Cash Flow']/df['Revenue']\n",
    "    except:\n",
    "        pass\n",
    "    try:\n",
    "        df['Asset Turnover Ratio'] = df['Revenue']/df['Total Assets']\n",
    "    except:\n",
    "        pass\n",
    "    try:\n",
    "        df['Capital Stock Turnover Ratio'] = df['Revenue']/df['Shareholders Equity']\n",
    "    except:\n",
    "        pass\n",
    "    try:\n",
    "        df['Liability Turnover Ratio'] = df['Revenue']/df['Total Liabilities']\n",
    "    except:\n",
    "        pass\n",
    "    try:\n",
    "        df['Total Liabilites Growth Rate'] = df['Total Liabilities'] / df['Total Liabilities'].shift(-1)\n",
    "    except:\n",
    "        pass\n",
    "    try:\n",
    "        df['Total Assets Growth Rate'] = df['Total Assets'] / df['Total Assets'].shift(-1)\n",
    "    except:\n",
    "        pass\n",
    "    try:\n",
    "        df['Sales Growth Rate'] = df['Revenue'] / df['Revenue'].shift(-1)\n",
    "    except:\n",
    "        pass\n",
    "    try:\n",
    "        df['EPS Growth'] = (df['EPS'] -df['EPS'].shift(-1)) /df['EPS'].shift(-1)\n",
    "    except:\n",
    "        pass\n",
    "    try:\n",
    "        df['COGS Ratio'] = df['COGS']/df['Revenue']\n",
    "    except:\n",
    "        pass\n",
    "    \n",
    "    for c in df.columns:\n",
    "        if c not in features:\n",
    "            del df[c] \n",
    "    \n",
    "    if df.shape[1] != 31:\n",
    "        mis = 31 - df.shape[1]\n",
    "        print(f'{s} Missing {mis} Variables')\n",
    "    df.to_csv(f'./Berkshire Adjusted/{s}_ratios.csv')\n",
    "    cnt += 1\n",
    "if cnt != len(stocks_use):\n",
    "    print(len(stocks_use)-cnt)\n",
    "else:\n",
    "    print(f'Successfully Saved {cnt} Datas')\n",
    "    \n",
    "    \n",
    "    "
   ]
  },
  {
   "cell_type": "code",
   "execution_count": null,
   "metadata": {},
   "outputs": [],
   "source": []
  },
  {
   "cell_type": "code",
   "execution_count": null,
   "metadata": {},
   "outputs": [],
   "source": []
  },
  {
   "cell_type": "code",
   "execution_count": 108,
   "metadata": {},
   "outputs": [],
   "source": [
    "df = pd.read_csv(f'./{institution}/AAPL_FS.csv')"
   ]
  },
  {
   "cell_type": "code",
   "execution_count": 109,
   "metadata": {},
   "outputs": [],
   "source": [
    "df['ROA(NI)'] = df['Net Income']/df['Total Assets']\n",
    "df['ROA(OI)'] = df['Operating Income']/df['Total Assets']\n",
    "df['ROA(EBITDA)'] = df['EBITDA']/df['Total Assets']\n",
    "\n",
    "df['ROE(NI)'] = df['Net Income']/df['Shareholders Equity']\n",
    "df['ROE(OI)'] = df['Operating Income']/df['Shareholders Equity']\n",
    "df['ROE(EBITDA)'] = df['EBITDA']/df['Shareholders Equity']\n",
    "\n",
    "df['PER (P/E)'] = df['Price']/df['EPS']\n",
    "df['PBR (P/B)'] = df['Price']*df['Shares']/df['Shareholders Equity']\n",
    "df['EV/EBITDA'] = (df['Total Assets']-df['Cash & Equivalents'])/df['EBITDA']\n",
    "df['PCR'] = df['Price']/(df['Net Income']+df['Depreciation'])/df['Shares']\n",
    "\n",
    "df['Interest Coverage Ratio']=df['Operating Income']/(df['Operating Cash Flow']-df['Net Income']-df['Depreciation'])\n",
    "\n",
    "df['Cash Conversion Cycle (CCC)'] = 365/(df['Receivables']/df['Revenue'])+365/(df['Current Debt']/df['COGS'])+365/(df['Inventory']/df['COGS'])\n",
    "df['Cash Flow To Debt Ratio'] = df['Operating Cash Flow']/df['Long Term Debt']\n",
    "df['Cash Flow To Liability Ratio'] = df['Operating Cash Flow']/df['Total Liabilities']\n",
    "df['Operating Cash Flow Per Share'] = df['Operating Cash Flow']/df['Shares']\n",
    "df['Operating Cash Flow Ratio'] = df['Operating Cash Flow']/df['Revenue']\n",
    "df['Asset Efficiency Ratio'] = df['Operating Cash Flow']/df['Total Assets']\n",
    "df['Current Liability Coverage Ratio'] = (df['Operating Cash Flow']-df['Dividends'])/df['Current Liabilities']\n",
    "df['Cash Generating Power Ratio'] = df['Operating Cash Flow']/(df['Operating Cash Flow']+df['Investing cash flow']+df['Financing cash flow'])\n",
    "df['External Financing Index Ratio'] = df['Financing cash flow']/df['Operating Cash Flow']\n",
    "df['FCFE'] = df['Operating Cash Flow']-df['Capital Expenditure']\n",
    "df['Debt Ratio'] = df['Total Liabilities']/df['Shareholders Equity']\n",
    "df[\"Cash Flow to Shareholder's Equity\"] = df['Operating Cash Flow']/df['Shareholders Equity']\n",
    "df['Cash Flow  to Revenue Ratio'] = df['Operating Cash Flow']/df['Revenue']\n",
    "df['Asset Turnover Ratio'] = df['Revenue']/df['Total Assets']\n",
    "df['Capital Stock Turnover Ratio'] = df['Revenue']/df['Shareholders Equity']\n",
    "df['Liability Turnover Ratio'] = df['Revenue']/df['Total Liabilities']\n",
    "df['Total Liabilites Growth Rate'] = df['Total Liabilities'] / df['Total Liabilities'].shift(-1)\n",
    "df['Total Assets Growth Rate'] = df['Total Assets'] / df['Total Assets'].shift(-1)\n",
    "df['Sales Growth Rate'] = df['Revenue'] / df['Revenue'].shift(-1)\n",
    "df['EPS Growth'] = (df['EPS'] -df['EPS'].shift(-1)) /df['EPS'].shift(-1)\n",
    "df['COGS Ratio'] = df['COGS']/df['Revenue']"
   ]
  },
  {
   "cell_type": "code",
   "execution_count": 110,
   "metadata": {},
   "outputs": [
    {
     "name": "stdout",
     "output_type": "stream",
     "text": [
      "Deleted Unnamed: 0\n",
      "Deleted Revenue\n",
      "Deleted COGS\n",
      "Deleted Gross Profit\n",
      "Deleted SG&A\n",
      "Deleted Operating Income\n",
      "Deleted Net Income\n",
      "Deleted EPS\n",
      "Deleted EBITDA\n",
      "Deleted EBIT\n",
      "Deleted Shares\n",
      "Deleted Cash & Equivalents\n",
      "Deleted Receivables\n",
      "Deleted Inventory\n",
      "Deleted Current Assets\n",
      "Deleted Long Term Assets\n",
      "Deleted Total Assets\n",
      "Deleted Current Debt\n",
      "Deleted Current Liabilities\n",
      "Deleted Long Term Debt\n",
      "Deleted Long Term Liabilities\n",
      "Deleted Total Liabilities\n",
      "Deleted Shareholders Equity\n",
      "Deleted Depreciation\n",
      "Deleted Operating Cash Flow\n",
      "Deleted Capital Expenditure\n",
      "Deleted Investing cash flow\n",
      "Deleted Dividends\n",
      "Deleted Financing cash flow\n",
      "Deleted Price\n",
      "Deleted Interest Coverage Ratio\n"
     ]
    }
   ],
   "source": [
    "for c in df.columns:\n",
    "    if c not in features:\n",
    "        del df[c]\n",
    "        print(f'Deleted {c}')"
   ]
  },
  {
   "cell_type": "code",
   "execution_count": 111,
   "metadata": {},
   "outputs": [
    {
     "data": {
      "text/plain": [
       "(39, 31)"
      ]
     },
     "execution_count": 111,
     "metadata": {},
     "output_type": "execute_result"
    }
   ],
   "source": [
    "df.shape"
   ]
  },
  {
   "cell_type": "code",
   "execution_count": null,
   "metadata": {},
   "outputs": [],
   "source": []
  }
 ],
 "metadata": {
  "kernelspec": {
   "display_name": "base",
   "language": "python",
   "name": "python3"
  },
  "language_info": {
   "codemirror_mode": {
    "name": "ipython",
    "version": 3
   },
   "file_extension": ".py",
   "mimetype": "text/x-python",
   "name": "python",
   "nbconvert_exporter": "python",
   "pygments_lexer": "ipython3",
   "version": "3.8.12"
  },
  "orig_nbformat": 4,
  "vscode": {
   "interpreter": {
    "hash": "db3f9596c5aba5087c9c8d1f1b99adecf5bd2d533081155cfbf15515ccfe8efa"
   }
  }
 },
 "nbformat": 4,
 "nbformat_minor": 2
}
