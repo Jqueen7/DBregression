{
 "cells": [
  {
   "cell_type": "code",
   "execution_count": 1,
   "metadata": {},
   "outputs": [],
   "source": [
    "import pandas as pd\n",
    "import numpy as np\n",
    "import yfinance as yf\n",
    "from pandas_datareader import data as pdr\n",
    "yf.pdr_override()\n",
    "from datetime import timedelta\n",
    "\n",
    "institution = 'Bridgewater Associates, LP'\n",
    "company = 'MSFT'\n"
   ]
  },
  {
   "cell_type": "code",
   "execution_count": 3,
   "metadata": {},
   "outputs": [],
   "source": [
    "stocks_use = ['MSFT', 'VZ', 'IBM', 'JNJ', 'CSCO', 'AAPL', 'ORCL', 'INTC', 'GILD', 'VTR', 'LVS', 'CAG', 'QCOM', 'EOG', 'OXY', 'RTX', 'COP',\n",
    "          'FCX', 'XOM', 'CVX', 'K', 'WELL', 'ED', 'MU', 'HON', 'NEM', 'APA', 'WYNN', 'PHM', 'JNPR', 'EMR', 'BA', 'MGM', 'MO', 'BKNG',\n",
    "          'URI', 'CCL', 'CHRW', 'TXN', 'NTAP', 'KR', 'VRSN', 'ICE', 'MAR', 'PEP', 'INTU', 'NVDA', 'UNH', 'MCK', 'MDT', 'WY', 'CI', 'MHK',\n",
    "          'HES', 'TMO', 'GOOGL', 'DVN', 'PXD', 'ADBE', 'BAX', 'MRO', 'DHR', 'DGX', 'DVA', 'KLAC', 'MCHP', 'LRCX', 'MET', 'NOC', 'FFIV',\n",
    "          'AMAT', 'PH', 'META', 'WM', 'PFE', 'LMT', 'CAH', 'IP', 'PRU', 'AIG', 'DOV', 'MSI', 'EQT', 'CTRA', 'GE', 'AFL', 'ITW', 'VLO',\n",
    "          'WHR', 'GWW', 'CRM', 'ACN', 'AZO', 'JBHT', 'ABC', 'ATVI', 'LLY', 'ANSS', 'EL', 'MAS', 'CB', 'ETN', 'GS', 'TRV', 'LUV',\n",
    "          'GLW', 'NUE', 'HD', 'CMI', 'ISRG', 'STLD', 'DUK', 'KMX', 'TEL', 'PEG', 'EBAY', 'RHI', 'PKG', 'PPG', 'LNC', 'EMN',\n",
    "          'FISV', 'UAL', 'SYK', 'ZION', 'NDAQ', 'LOW', 'LH', 'MTD', 'O', 'EQIX', 'SBAC', 'ROK', 'T', 'TROW', 'MMC', 'ABT',\n",
    "          'ALL', 'AME', 'HIG', 'LUMN', 'AKAM', 'WAB', 'GIS', 'AMZN', 'BLK', 'ADP', 'CDNS', 'BSX', 'MS', 'AEP', 'SBNY', 'PGR',\n",
    "          'BEN', 'UHS', 'PAYX', 'ON', 'CLX', 'BDX', 'NVR', 'SCHW', 'SLB', 'HAL', 'STT', 'IDXX', 'AMP', 'EFX', 'RL', 'BMY', 'MSCI',\n",
    "          'AAP', 'KO', 'SYY', 'EA', 'ORLY', 'SHW', 'TGT', 'TSN', 'PSX', 'BIIB', 'SPGI', 'MOS', 'WMT', 'SO', 'UNP', 'ETR', 'WDC',\n",
    "          'CCI', 'CMG', 'CTSH', 'PCAR', 'NEE', 'AXP', 'ILMN', 'GD', 'ADI', 'ELV', 'MMM', 'HST', 'ROST', 'HUM', 'FMC', 'JCI',\n",
    "          'COST', 'PCG', 'ADM', 'PLD', 'PSA', 'HSY', 'AMT', 'MDLZ', 'RCL', 'CF', 'SPG', 'TAP', 'PM', 'AMGN', 'LHX', 'LKQ', 'TRMB',\n",
    "          'CTAS', 'CNP', 'CSX', 'RSG', 'RE', 'TECH', 'IFF', 'CRL', 'FDS', 'JKHY', 'FITB', 'ALK', 'RF', 'APH', 'SNA', 'BAC', 'NWL',\n",
    "          'CE', 'EIX', 'LYB', 'VRSK', 'MLM', 'FLT', 'SWKS', 'AVY', 'DIS', 'SBUX', 'MCD', 'DISH', 'MRK', 'YUM', 'DRI', 'DHI', 'TXT',\n",
    "          'NRG', 'D', 'FDX', 'KDP', 'STZ', 'FE', 'BWA', 'RMD', 'UPS', 'WBA', 'HOLX', 'EXC', 'EW', 'DE', 'CPB', 'BXP', 'DAL', 'MNST',\n",
    "          'PFG', 'REGN', 'IPG', 'CVS', 'LEN', 'TJX', 'COF', 'SWK', 'F', 'SJM', 'CBRE', 'AIZ', 'HBAN', 'USB', 'SEE', 'VMC', 'TFC',\n",
    "          'MCO', 'FIS', 'CMA', 'L', 'APD', 'CME', 'MKC', 'JPM', 'HRL', 'IVZ', 'DFS', 'ROP', 'TPR', 'PWR', 'KMB', 'PG', 'PPL',\n",
    "          'CMCSA', 'CAT', 'WFC', 'XRAY', 'V', 'J', 'COO', 'C', 'RJF', 'MPC', 'WAT', 'IT', 'FTNT', 'SNPS', 'ECL', 'ARE', 'GPN',\n",
    "          'IRM', 'KEY', 'WTW', 'PKI', 'BALL', 'PNC', 'GL', 'FRT', 'NWSA', 'MTB', 'WRK', 'ALGN', 'HSIC', 'EXR', 'BIO', 'TSCO',\n",
    "          'ALLE', 'AJG', 'UDR', 'IEX', 'CPT', 'DLR', 'REG', 'KIM', 'NDSN', 'ESS', 'AEE', 'LNT', 'AWK', 'WEC', 'DTE', 'AES',\n",
    "          'PNW', 'ES', 'XEL', 'ATO', 'CMS', 'ALB', 'CHD', 'TSLA', 'EXPD', 'NOW', 'ROL', 'CPRT', 'CINF', 'WRB', 'TMUS', 'VFC',\n",
    "          'VRTX', 'EXPE', 'NTRS', 'PTC', 'DPZ', 'CL', 'APTV', 'ODFL', 'GPC', 'DG', 'DD', 'HCA', 'KHC', 'AOS', 'EQR', 'AVB',\n",
    "          'SRE', 'GM', 'DLTR', 'PEAK', 'POOL', 'ZBH', 'ACGL', 'CDW', 'OMC', 'HLT', 'LW', 'FAST', 'LDOS', 'ANET', 'EVRG', 'NSC',\n",
    "          'NI', 'ADSK', 'FTV', 'FANG', 'TT', 'AON', 'BK', 'WST', 'CARR', 'DXCM', 'STE', 'FRC', 'TFX', 'SIVB', 'MKTX', 'CFG',\n",
    "          'BRO', 'FOXA', 'KMI', 'INVH', 'MAA', 'BKR', 'VTRS', 'CBOE', 'BBY', 'HII', 'PAYC', 'CSGP', 'CDAY', 'PYPL', 'MA',\n",
    "          'LIN', 'A', 'CTVA', 'HPQ', 'KEYS', 'AMD', 'ZBRA', 'ABBV', 'AVGO', 'HPE', 'XYL', 'MRNA', 'GRMN', 'FSLR', 'IR', 'TER',\n",
    "          'MPWR', 'BR', 'INCY', 'QRVO', 'OKE', 'IQV', 'GEN', 'PNR', 'SEDG', 'TTWO', 'CTLT', 'TDG', 'EPAM', 'CNC', 'LYV', 'NFLX',\n",
    "          'TDY', 'MOH', 'TYL', 'HWM', 'ETSY', 'HAS', 'ZTS', 'NKE', 'CHTR', 'ULTA', 'OTIS', 'NXPI', 'WBD', 'DXC', 'STX', 'BBWI',\n",
    "          'TRGP', 'VICI', 'AAL', 'NCLH', 'PARA', 'GNRC', 'ENPH']"
   ]
  },
  {
   "cell_type": "code",
   "execution_count": 4,
   "metadata": {},
   "outputs": [
    {
     "data": {
      "text/plain": [
       "489"
      ]
     },
     "execution_count": 4,
     "metadata": {},
     "output_type": "execute_result"
    }
   ],
   "source": [
    "len(stocks_use)"
   ]
  },
  {
   "cell_type": "code",
   "execution_count": 5,
   "metadata": {},
   "outputs": [],
   "source": [
    "features = ['ROA(NI)',\n",
    "'ROA(OI)',\n",
    "'ROA(EBITDA)',\n",
    "'ROE(NI)',\n",
    "'ROE(OI)',\n",
    "'ROE(EBITDA)',\n",
    "'PER (P/E)',\n",
    "'PBR (P/B)',\n",
    "'EV/EBITDA',\n",
    "'PCR',\n",
    "'Cash Conversion Cycle (CCC)',\n",
    "'Cash Flow To Debt Ratio',\n",
    "'Cash Flow To Liability Ratio',\n",
    "'Operating Cash Flow Per Share',\n",
    "'Operating Cash Flow Ratio',\n",
    "'Asset Efficiency Ratio',\n",
    "'Current Liability Coverage Ratio',\n",
    "'Interest Coverage Ratio',\n",
    "'Cash Generating Power Ratio',\n",
    "'External Financing Index Ratio',\n",
    "'FCFE',\n",
    "'Debt Ratio',\n",
    "\"Cash Flow to Shareholder's Equity\",\n",
    "'Cash Flow  to Revenue Ratio',\n",
    "'Asset Turnover Ratio',\n",
    "'Capital Stock Turnover Ratio',\n",
    "'Liability Turnover Ratio',\n",
    "'Total Liabilites Growth Rate',\n",
    "'Total Assets Growth Rate',\n",
    "'Sales Growth Rate',\n",
    "'EPS Growth',\n",
    "'COGS Ratio']"
   ]
  },
  {
   "cell_type": "code",
   "execution_count": 6,
   "metadata": {},
   "outputs": [
    {
     "data": {
      "text/plain": [
       "Index(['Unnamed: 0', 'Revenue', 'COGS', 'Gross Profit', 'SG&A',\n",
       "       'Operating Income', 'Net Income', 'EPS', 'EBITDA', 'EBIT', 'Shares',\n",
       "       'Cash & Equivalents', 'Receivables', 'Inventory', 'Current Assets',\n",
       "       'Long Term Assets', 'Total Assets', 'Current Debt',\n",
       "       'Current Liabilities', 'Long Term Debt', 'Long Term Liabilities',\n",
       "       'Total Liabilities', 'Shareholders Equity', 'Depreciation',\n",
       "       'Operating Cash Flow', 'Capital Expenditure', 'Investing cash flow',\n",
       "       'Dividends', 'Financing cash flow', 'Price'],\n",
       "      dtype='object')"
      ]
     },
     "execution_count": 6,
     "metadata": {},
     "output_type": "execute_result"
    }
   ],
   "source": [
    "pg = pd.read_csv(f'./{institution}/PG_FS.csv')\n",
    "pg.columns"
   ]
  },
  {
   "cell_type": "code",
   "execution_count": 7,
   "metadata": {},
   "outputs": [
    {
     "data": {
      "text/plain": [
       "Index(['Unnamed: 0', 'Revenue', 'COGS', 'Gross Profit', 'SG&A',\n",
       "       'Operating Income', 'Net Income', 'EPS', 'EBITDA', 'EBIT', 'Shares',\n",
       "       'Cash & Equivalents', 'Receivables', 'Inventory', 'Current Assets',\n",
       "       'Long Term Assets', 'Total Assets', 'Current Debt',\n",
       "       'Current Liabilities', 'Long Term Debt', 'Long Term Liabilities',\n",
       "       'Total Liabilities', 'Shareholders Equity', 'Depreciation',\n",
       "       'Operating Cash Flow', 'Capital Expenditure', 'Investing cash flow',\n",
       "       'Dividends', 'Financing cash flow', 'Price'],\n",
       "      dtype='object')"
      ]
     },
     "execution_count": 7,
     "metadata": {},
     "output_type": "execute_result"
    }
   ],
   "source": [
    "pg.columns"
   ]
  },
  {
   "cell_type": "code",
   "execution_count": 8,
   "metadata": {},
   "outputs": [],
   "source": [
    "df = pd.read_csv(f'./{institution}/AAPL_FS.csv')\n",
    "standard = list(df.columns)"
   ]
  },
  {
   "cell_type": "code",
   "execution_count": 9,
   "metadata": {},
   "outputs": [
    {
     "data": {
      "text/plain": [
       "30"
      ]
     },
     "execution_count": 9,
     "metadata": {},
     "output_type": "execute_result"
    }
   ],
   "source": [
    "len(standard)"
   ]
  },
  {
   "cell_type": "code",
   "execution_count": 10,
   "metadata": {},
   "outputs": [
    {
     "data": {
      "text/plain": [
       "30"
      ]
     },
     "execution_count": 10,
     "metadata": {},
     "output_type": "execute_result"
    }
   ],
   "source": [
    "len(pg.columns)"
   ]
  },
  {
   "cell_type": "code",
   "execution_count": 99,
   "metadata": {},
   "outputs": [
    {
     "name": "stdout",
     "output_type": "stream",
     "text": [
      "['EBITDA', 'EBIT', 'Receivables', 'Inventory', 'Capital Expenditure'] not in WFC F/S\n",
      "['EBITDA', 'EBIT', 'Receivables', 'Inventory'] not in AXP F/S\n",
      "['EBITDA', 'EBIT', 'Receivables', 'Inventory', 'Capital Expenditure'] not in USB F/S\n",
      "['Inventory'] not in GS F/S\n",
      "['Inventory'] not in MCO F/S\n",
      "['EBITDA', 'EBIT', 'Receivables', 'Inventory'] not in BK F/S\n",
      "['EBITDA', 'EBIT', 'Receivables', 'Inventory'] not in MTB F/S\n",
      "['Inventory'] not in VRSN F/S\n",
      "['Inventory'] not in V F/S\n",
      "['Inventory'] not in GL F/S\n",
      "['Inventory'] not in LBTYA F/S\n",
      "['Inventory'] not in MA F/S\n",
      "['Inventory'] not in LBTYK F/S\n",
      "['Inventory'] not in VRSK F/S\n",
      "['Inventory'] not in LBRDA F/S\n",
      "['Inventory'] not in FWONK F/S\n",
      "['Inventory'] not in LILA F/S\n",
      "['Operating Income', 'EBIT', 'Inventory', 'Long Term Assets', 'Long Term Liabilities', 'Capital Expenditure'] not in LILAK F/S\n",
      "['Inventory'] not in CHTR F/S\n",
      "['EBITDA', 'EBIT', 'Receivables', 'Inventory'] not in BAC F/S\n",
      "['EBITDA', 'EBIT', 'Receivables', 'Inventory'] not in SYF F/S\n",
      "['Inventory'] not in STOR F/S\n",
      "['EBITDA', 'EBIT', 'Receivables', 'Inventory', 'Capital Expenditure'] not in JPM F/S\n",
      "['EBITDA', 'EBIT', 'Receivables', 'Inventory', 'Capital Expenditure'] not in PNC F/S\n",
      "['Inventory'] not in TRV F/S\n",
      "['Inventory'] not in AON F/S\n",
      "['COGS', 'Inventory'] not in MMC F/S\n",
      "['EBITDA', 'EBIT', 'Receivables', 'Inventory'] not in C F/S\n",
      "['SG&A', 'Inventory'] not in MKL F/S\n",
      "['EBITDA', 'EBIT', 'Receivables', 'Inventory', 'Capital Expenditure'] not in ALLY F/S\n",
      "['Inventory'] not in FWONA F/S\n",
      "['Inventory'] not in JEF F/S\n"
     ]
    }
   ],
   "source": [
    "for s in stocks_use:\n",
    "    dis = []\n",
    "    df = pd.read_csv(f'./{institution}/{s}_FS.csv')\n",
    "    now = list(df.columns)\n",
    "    for k in standard:\n",
    "        if k not in now:\n",
    "            dis.append(k)\n",
    "    if dis != []:\n",
    "        print(f'{dis} not in {s} F/S')"
   ]
  },
  {
   "cell_type": "code",
   "execution_count": 13,
   "metadata": {},
   "outputs": [
    {
     "name": "stdout",
     "output_type": "stream",
     "text": [
      "MET Missing 1 Variables\n",
      "No META data..!\n",
      "PRU Missing 1 Variables\n",
      "AIG Missing 1 Variables\n",
      "AFL Missing 1 Variables\n",
      "CB Missing 1 Variables\n",
      "LNC Missing 1 Variables\n",
      "ZION Missing 3 Variables\n",
      "TROW Missing 1 Variables\n",
      "MMC Missing 1 Variables\n",
      "BLK Missing 1 Variables\n",
      "SBNY Missing 3 Variables\n",
      "BEN Missing 1 Variables\n",
      "SCHW Missing 1 Variables\n",
      "STT Missing 3 Variables\n",
      "AMP Missing 1 Variables\n",
      "AXP Missing 3 Variables\n",
      "No ELV data..!\n",
      "RE Missing 1 Variables\n",
      "FITB Missing 3 Variables\n",
      "RF Missing 3 Variables\n",
      "BAC Missing 3 Variables\n",
      "COF Missing 3 Variables\n",
      "HBAN Missing 3 Variables\n",
      "USB Missing 4 Variables\n",
      "TFC Missing 3 Variables\n",
      "CMA Missing 3 Variables\n",
      "CME Missing 1 Variables\n",
      "JPM Missing 4 Variables\n",
      "DFS Missing 3 Variables\n",
      "WFC Missing 4 Variables\n",
      "C Missing 3 Variables\n",
      "KEY Missing 3 Variables\n",
      "WTW Missing 1 Variables\n",
      "No BALL data..!\n",
      "PNC Missing 4 Variables\n",
      "MTB Missing 3 Variables\n",
      "NTRS Missing 3 Variables\n",
      "BK Missing 3 Variables\n",
      "FRC Missing 3 Variables\n",
      "SIVB Missing 3 Variables\n",
      "MKTX Missing 1 Variables\n",
      "CFG Missing 3 Variables\n",
      "No GEN data..!\n",
      "No TRGP data..!\n",
      "VICI Missing 1 Variables\n",
      "Successfully Saved 489 Datas\n"
     ]
    }
   ],
   "source": [
    "cnt = 0\n",
    "stocks_saved = []\n",
    "for s in stocks_use:\n",
    "    try:\n",
    "        df = pd.read_csv(f'./{institution}/{s}_FS.csv')\n",
    "        df.rename(columns = {'Unnamed: 0':'date'}, inplace=True)\n",
    "        for i in range(len(df)):\n",
    "            tmp = df['date'].values[i].split('-')\n",
    "            day = tmp[0]+'-'+tmp[1]+'-01'\n",
    "            df['date'].values[i] = pd.to_datetime(day)\n",
    "        df = df.set_index('date')\n",
    "    except:\n",
    "        print(f'No {s} data..!')\n",
    "    \n",
    "    try:\n",
    "        df['ROA(NI)'] = df['Net Income']/df['Total Assets']\n",
    "    except:\n",
    "        pass\n",
    "    try:\n",
    "        df['ROA(OI)'] = df['Operating Income']/df['Total Assets']\n",
    "    except:\n",
    "        pass\n",
    "    try:\n",
    "        df['ROA(EBITDA)'] = df['EBITDA']/df['Total Assets']\n",
    "    except:\n",
    "        pass\n",
    "    try:\n",
    "        df['ROE(NI)'] = df['Net Income']/df['Shareholders Equity']\n",
    "    except:\n",
    "        pass\n",
    "    try:\n",
    "        df['ROE(OI)'] = df['Operating Income']/df['Shareholders Equity']\n",
    "    except:\n",
    "        pass\n",
    "    try:\n",
    "        df['ROE(EBITDA)'] = df['EBITDA']/df['Shareholders Equity']\n",
    "    except:\n",
    "        pass\n",
    "    try:\n",
    "        df['PER (P/E)'] = df['Price']/df['EPS']\n",
    "    except:\n",
    "        pass\n",
    "    try:\n",
    "        df['PBR (P/B)'] = df['Price']*df['Shares']/df['Shareholders Equity']\n",
    "    except:\n",
    "        pass\n",
    "    try:\n",
    "        df['EV/EBITDA'] = (df['Total Assets']-df['Cash & Equivalents'])/df['EBITDA']\n",
    "    except:\n",
    "        pass\n",
    "    try:\n",
    "        df['PCR'] = df['Price']/(df['Net Income']+df['Depreciation'])/df['Shares']\n",
    "    except:\n",
    "        pass\n",
    "    try:\n",
    "        df['Interest Coverage Ratio']=df['Operating Income']/(df['Operating Cash Flow']-df['Net Income']-df['Depreciation'])\n",
    "    except:\n",
    "        pass\n",
    "    try:\n",
    "        df['Cash Flow To Debt Ratio'] = df['Operating Cash Flow']/df['Long Term Debt']\n",
    "    except:\n",
    "        pass\n",
    "    try:\n",
    "        df['Cash Flow To Liability Ratio'] = df['Operating Cash Flow']/df['Total Liabilities']\n",
    "    except:\n",
    "        pass\n",
    "    try:\n",
    "        df['Operating Cash Flow Per Share'] = df['Operating Cash Flow']/df['Shares']\n",
    "    except:\n",
    "        pass\n",
    "    try:\n",
    "        df['Operating Cash Flow Ratio'] = df['Operating Cash Flow']/df['Revenue']\n",
    "    except:\n",
    "        pass\n",
    "    try:\n",
    "        df['Asset Efficiency Ratio'] = df['Operating Cash Flow']/df['Total Assets']\n",
    "    except:\n",
    "        pass\n",
    "    try:\n",
    "        df['Current Liability Coverage Ratio'] = (df['Operating Cash Flow']-df['Dividends'])/df['Current Liabilities']\n",
    "    except:\n",
    "        pass\n",
    "    try:\n",
    "        df['Cash Generating Power Ratio'] = df['Operating Cash Flow']/(df['Operating Cash Flow']+df['Investing cash flow']+df['Financing cash flow'])\n",
    "    except:\n",
    "        pass\n",
    "    try:\n",
    "        df['External Financing Index Ratio'] = df['Financing cash flow']/df['Operating Cash Flow']\n",
    "    except:\n",
    "        pass\n",
    "    try:\n",
    "        df['FCFE'] = df['Operating Cash Flow']-df['Capital Expenditure']\n",
    "    except:\n",
    "        pass\n",
    "    try:\n",
    "        df['Debt Ratio'] = df['Total Liabilities']/df['Shareholders Equity']\n",
    "    except:\n",
    "        pass\n",
    "    try:\n",
    "        df[\"Cash Flow to Shareholder's Equity\"] = df['Operating Cash Flow']/df['Shareholders Equity']\n",
    "    except:\n",
    "        pass\n",
    "    try:\n",
    "        df['Cash Flow  to Revenue Ratio'] = df['Operating Cash Flow']/df['Revenue']\n",
    "    except:\n",
    "        pass\n",
    "    try:\n",
    "        df['Asset Turnover Ratio'] = df['Revenue']/df['Total Assets']\n",
    "    except:\n",
    "        pass\n",
    "    try:\n",
    "        df['Capital Stock Turnover Ratio'] = df['Revenue']/df['Shareholders Equity']\n",
    "    except:\n",
    "        pass\n",
    "    try:\n",
    "        df['Liability Turnover Ratio'] = df['Revenue']/df['Total Liabilities']\n",
    "    except:\n",
    "        pass\n",
    "    try:\n",
    "        df['Total Liabilites Growth Rate'] = df['Total Liabilities'] / df['Total Liabilities'].shift(-1)\n",
    "    except:\n",
    "        pass\n",
    "    try:\n",
    "        df['Total Assets Growth Rate'] = df['Total Assets'] / df['Total Assets'].shift(-1)\n",
    "    except:\n",
    "        pass\n",
    "    try:\n",
    "        df['Sales Growth Rate'] = df['Revenue'] / df['Revenue'].shift(-1)\n",
    "    except:\n",
    "        pass\n",
    "    try:\n",
    "        df['EPS Growth'] = (df['EPS'] -df['EPS'].shift(-1)) /df['EPS'].shift(-1)\n",
    "    except:\n",
    "        pass\n",
    "    try:\n",
    "        df['COGS Ratio'] = df['COGS']/df['Revenue']\n",
    "    except:\n",
    "        pass\n",
    "    \n",
    "    for c in df.columns:\n",
    "        if c not in features:\n",
    "            del df[c] \n",
    "    \n",
    "    if df.shape[1] != 31:\n",
    "        mis = 31 - df.shape[1]\n",
    "        print(f'{s} Missing {mis} Variables')\n",
    "    df.to_csv(f'./Bridgewater Adjusted/{s}_ratios.csv')\n",
    "    stocks_saved.append(s)\n",
    "    cnt += 1\n",
    "if cnt != len(stocks_use):\n",
    "    print(len(stocks_use)-cnt)\n",
    "else:\n",
    "    print(f'Successfully Saved {cnt} Datas')\n",
    "    \n",
    "    \n",
    "    "
   ]
  },
  {
   "cell_type": "code",
   "execution_count": 14,
   "metadata": {},
   "outputs": [
    {
     "name": "stdout",
     "output_type": "stream",
     "text": [
      "['MSFT', 'VZ', 'IBM', 'JNJ', 'CSCO', 'AAPL', 'ORCL', 'INTC', 'GILD', 'VTR', 'LVS', 'CAG', 'QCOM', 'EOG', 'OXY', 'RTX', 'COP', 'FCX', 'XOM', 'CVX', 'K', 'WELL', 'ED', 'MU', 'HON', 'NEM', 'APA', 'WYNN', 'PHM', 'JNPR', 'EMR', 'BA', 'MGM', 'MO', 'BKNG', 'URI', 'CCL', 'CHRW', 'TXN', 'NTAP', 'KR', 'VRSN', 'ICE', 'MAR', 'PEP', 'INTU', 'NVDA', 'UNH', 'MCK', 'MDT', 'WY', 'CI', 'MHK', 'HES', 'TMO', 'GOOGL', 'DVN', 'PXD', 'ADBE', 'BAX', 'MRO', 'DHR', 'DGX', 'DVA', 'KLAC', 'MCHP', 'LRCX', 'MET', 'NOC', 'FFIV', 'AMAT', 'PH', 'META', 'WM', 'PFE', 'LMT', 'CAH', 'IP', 'PRU', 'AIG', 'DOV', 'MSI', 'EQT', 'CTRA', 'GE', 'AFL', 'ITW', 'VLO', 'WHR', 'GWW', 'CRM', 'ACN', 'AZO', 'JBHT', 'ABC', 'ATVI', 'LLY', 'ANSS', 'EL', 'MAS', 'CB', 'ETN', 'GS', 'TRV', 'LUV', 'GLW', 'NUE', 'HD', 'CMI', 'ISRG', 'STLD', 'DUK', 'KMX', 'TEL', 'PEG', 'EBAY', 'RHI', 'PKG', 'PPG', 'LNC', 'EMN', 'FISV', 'UAL', 'SYK', 'ZION', 'NDAQ', 'LOW', 'LH', 'MTD', 'O', 'EQIX', 'SBAC', 'ROK', 'T', 'TROW', 'MMC', 'ABT', 'ALL', 'AME', 'HIG', 'LUMN', 'AKAM', 'WAB', 'GIS', 'AMZN', 'BLK', 'ADP', 'CDNS', 'BSX', 'MS', 'AEP', 'SBNY', 'PGR', 'BEN', 'UHS', 'PAYX', 'ON', 'CLX', 'BDX', 'NVR', 'SCHW', 'SLB', 'HAL', 'STT', 'IDXX', 'AMP', 'EFX', 'RL', 'BMY', 'MSCI', 'AAP', 'KO', 'SYY', 'EA', 'ORLY', 'SHW', 'TGT', 'TSN', 'PSX', 'BIIB', 'SPGI', 'MOS', 'WMT', 'SO', 'UNP', 'ETR', 'WDC', 'CCI', 'CMG', 'CTSH', 'PCAR', 'NEE', 'AXP', 'ILMN', 'GD', 'ADI', 'ELV', 'MMM', 'HST', 'ROST', 'HUM', 'FMC', 'JCI', 'COST', 'PCG', 'ADM', 'PLD', 'PSA', 'HSY', 'AMT', 'MDLZ', 'RCL', 'CF', 'SPG', 'TAP', 'PM', 'AMGN', 'LHX', 'LKQ', 'TRMB', 'CTAS', 'CNP', 'CSX', 'RSG', 'RE', 'TECH', 'IFF', 'CRL', 'FDS', 'JKHY', 'FITB', 'ALK', 'RF', 'APH', 'SNA', 'BAC', 'NWL', 'CE', 'EIX', 'LYB', 'VRSK', 'MLM', 'FLT', 'SWKS', 'AVY', 'DIS', 'SBUX', 'MCD', 'DISH', 'MRK', 'YUM', 'DRI', 'DHI', 'TXT', 'NRG', 'D', 'FDX', 'KDP', 'STZ', 'FE', 'BWA', 'RMD', 'UPS', 'WBA', 'HOLX', 'EXC', 'EW', 'DE', 'CPB', 'BXP', 'DAL', 'MNST', 'PFG', 'REGN', 'IPG', 'CVS', 'LEN', 'TJX', 'COF', 'SWK', 'F', 'SJM', 'CBRE', 'AIZ', 'HBAN', 'USB', 'SEE', 'VMC', 'TFC', 'MCO', 'FIS', 'CMA', 'L', 'APD', 'CME', 'MKC', 'JPM', 'HRL', 'IVZ', 'DFS', 'ROP', 'TPR', 'PWR', 'KMB', 'PG', 'PPL', 'CMCSA', 'CAT', 'WFC', 'XRAY', 'V', 'J', 'COO', 'C', 'RJF', 'MPC', 'WAT', 'IT', 'FTNT', 'SNPS', 'ECL', 'ARE', 'GPN', 'IRM', 'KEY', 'WTW', 'PKI', 'BALL', 'PNC', 'GL', 'FRT', 'NWSA', 'MTB', 'WRK', 'ALGN', 'HSIC', 'EXR', 'BIO', 'TSCO', 'ALLE', 'AJG', 'UDR', 'IEX', 'CPT', 'DLR', 'REG', 'KIM', 'NDSN', 'ESS', 'AEE', 'LNT', 'AWK', 'WEC', 'DTE', 'AES', 'PNW', 'ES', 'XEL', 'ATO', 'CMS', 'ALB', 'CHD', 'TSLA', 'EXPD', 'NOW', 'ROL', 'CPRT', 'CINF', 'WRB', 'TMUS', 'VFC', 'VRTX', 'EXPE', 'NTRS', 'PTC', 'DPZ', 'CL', 'APTV', 'ODFL', 'GPC', 'DG', 'DD', 'HCA', 'KHC', 'AOS', 'EQR', 'AVB', 'SRE', 'GM', 'DLTR', 'PEAK', 'POOL', 'ZBH', 'ACGL', 'CDW', 'OMC', 'HLT', 'LW', 'FAST', 'LDOS', 'ANET', 'EVRG', 'NSC', 'NI', 'ADSK', 'FTV', 'FANG', 'TT', 'AON', 'BK', 'WST', 'CARR', 'DXCM', 'STE', 'FRC', 'TFX', 'SIVB', 'MKTX', 'CFG', 'BRO', 'FOXA', 'KMI', 'INVH', 'MAA', 'BKR', 'VTRS', 'CBOE', 'BBY', 'HII', 'PAYC', 'CSGP', 'CDAY', 'PYPL', 'MA', 'LIN', 'A', 'CTVA', 'HPQ', 'KEYS', 'AMD', 'ZBRA', 'ABBV', 'AVGO', 'HPE', 'XYL', 'MRNA', 'GRMN', 'FSLR', 'IR', 'TER', 'MPWR', 'BR', 'INCY', 'QRVO', 'OKE', 'IQV', 'GEN', 'PNR', 'SEDG', 'TTWO', 'CTLT', 'TDG', 'EPAM', 'CNC', 'LYV', 'NFLX', 'TDY', 'MOH', 'TYL', 'HWM', 'ETSY', 'HAS', 'ZTS', 'NKE', 'CHTR', 'ULTA', 'OTIS', 'NXPI', 'WBD', 'DXC', 'STX', 'BBWI', 'TRGP', 'VICI', 'AAL', 'NCLH', 'PARA', 'GNRC', 'ENPH']\n"
     ]
    }
   ],
   "source": [
    "print(stocks_saved)"
   ]
  },
  {
   "cell_type": "code",
   "execution_count": null,
   "metadata": {},
   "outputs": [],
   "source": []
  },
  {
   "cell_type": "code",
   "execution_count": 108,
   "metadata": {},
   "outputs": [],
   "source": [
    "df = pd.read_csv(f'./{institution}/AAPL_FS.csv')"
   ]
  },
  {
   "cell_type": "code",
   "execution_count": 109,
   "metadata": {},
   "outputs": [],
   "source": [
    "df['ROA(NI)'] = df['Net Income']/df['Total Assets']\n",
    "df['ROA(OI)'] = df['Operating Income']/df['Total Assets']\n",
    "df['ROA(EBITDA)'] = df['EBITDA']/df['Total Assets']\n",
    "\n",
    "df['ROE(NI)'] = df['Net Income']/df['Shareholders Equity']\n",
    "df['ROE(OI)'] = df['Operating Income']/df['Shareholders Equity']\n",
    "df['ROE(EBITDA)'] = df['EBITDA']/df['Shareholders Equity']\n",
    "\n",
    "df['PER (P/E)'] = df['Price']/df['EPS']\n",
    "df['PBR (P/B)'] = df['Price']*df['Shares']/df['Shareholders Equity']\n",
    "df['EV/EBITDA'] = (df['Total Assets']-df['Cash & Equivalents'])/df['EBITDA']\n",
    "df['PCR'] = df['Price']/(df['Net Income']+df['Depreciation'])/df['Shares']\n",
    "\n",
    "df['Interest Coverage Ratio']=df['Operating Income']/(df['Operating Cash Flow']-df['Net Income']-df['Depreciation'])\n",
    "\n",
    "df['Cash Conversion Cycle (CCC)'] = 365/(df['Receivables']/df['Revenue'])+365/(df['Current Debt']/df['COGS'])+365/(df['Inventory']/df['COGS'])\n",
    "df['Cash Flow To Debt Ratio'] = df['Operating Cash Flow']/df['Long Term Debt']\n",
    "df['Cash Flow To Liability Ratio'] = df['Operating Cash Flow']/df['Total Liabilities']\n",
    "df['Operating Cash Flow Per Share'] = df['Operating Cash Flow']/df['Shares']\n",
    "df['Operating Cash Flow Ratio'] = df['Operating Cash Flow']/df['Revenue']\n",
    "df['Asset Efficiency Ratio'] = df['Operating Cash Flow']/df['Total Assets']\n",
    "df['Current Liability Coverage Ratio'] = (df['Operating Cash Flow']-df['Dividends'])/df['Current Liabilities']\n",
    "df['Cash Generating Power Ratio'] = df['Operating Cash Flow']/(df['Operating Cash Flow']+df['Investing cash flow']+df['Financing cash flow'])\n",
    "df['External Financing Index Ratio'] = df['Financing cash flow']/df['Operating Cash Flow']\n",
    "df['FCFE'] = df['Operating Cash Flow']-df['Capital Expenditure']\n",
    "df['Debt Ratio'] = df['Total Liabilities']/df['Shareholders Equity']\n",
    "df[\"Cash Flow to Shareholder's Equity\"] = df['Operating Cash Flow']/df['Shareholders Equity']\n",
    "df['Cash Flow  to Revenue Ratio'] = df['Operating Cash Flow']/df['Revenue']\n",
    "df['Asset Turnover Ratio'] = df['Revenue']/df['Total Assets']\n",
    "df['Capital Stock Turnover Ratio'] = df['Revenue']/df['Shareholders Equity']\n",
    "df['Liability Turnover Ratio'] = df['Revenue']/df['Total Liabilities']\n",
    "df['Total Liabilites Growth Rate'] = df['Total Liabilities'] / df['Total Liabilities'].shift(-1)\n",
    "df['Total Assets Growth Rate'] = df['Total Assets'] / df['Total Assets'].shift(-1)\n",
    "df['Sales Growth Rate'] = df['Revenue'] / df['Revenue'].shift(-1)\n",
    "df['EPS Growth'] = (df['EPS'] -df['EPS'].shift(-1)) /df['EPS'].shift(-1)\n",
    "df['COGS Ratio'] = df['COGS']/df['Revenue']"
   ]
  },
  {
   "cell_type": "code",
   "execution_count": 110,
   "metadata": {},
   "outputs": [
    {
     "name": "stdout",
     "output_type": "stream",
     "text": [
      "Deleted Unnamed: 0\n",
      "Deleted Revenue\n",
      "Deleted COGS\n",
      "Deleted Gross Profit\n",
      "Deleted SG&A\n",
      "Deleted Operating Income\n",
      "Deleted Net Income\n",
      "Deleted EPS\n",
      "Deleted EBITDA\n",
      "Deleted EBIT\n",
      "Deleted Shares\n",
      "Deleted Cash & Equivalents\n",
      "Deleted Receivables\n",
      "Deleted Inventory\n",
      "Deleted Current Assets\n",
      "Deleted Long Term Assets\n",
      "Deleted Total Assets\n",
      "Deleted Current Debt\n",
      "Deleted Current Liabilities\n",
      "Deleted Long Term Debt\n",
      "Deleted Long Term Liabilities\n",
      "Deleted Total Liabilities\n",
      "Deleted Shareholders Equity\n",
      "Deleted Depreciation\n",
      "Deleted Operating Cash Flow\n",
      "Deleted Capital Expenditure\n",
      "Deleted Investing cash flow\n",
      "Deleted Dividends\n",
      "Deleted Financing cash flow\n",
      "Deleted Price\n",
      "Deleted Interest Coverage Ratio\n"
     ]
    }
   ],
   "source": [
    "for c in df.columns:\n",
    "    if c not in features:\n",
    "        del df[c]\n",
    "        print(f'Deleted {c}')"
   ]
  },
  {
   "cell_type": "code",
   "execution_count": 111,
   "metadata": {},
   "outputs": [
    {
     "data": {
      "text/plain": [
       "(39, 31)"
      ]
     },
     "execution_count": 111,
     "metadata": {},
     "output_type": "execute_result"
    }
   ],
   "source": [
    "df.shape"
   ]
  },
  {
   "cell_type": "code",
   "execution_count": null,
   "metadata": {},
   "outputs": [],
   "source": []
  }
 ],
 "metadata": {
  "kernelspec": {
   "display_name": "Python 3 (ipykernel)",
   "language": "python",
   "name": "python3"
  },
  "language_info": {
   "codemirror_mode": {
    "name": "ipython",
    "version": 3
   },
   "file_extension": ".py",
   "mimetype": "text/x-python",
   "name": "python",
   "nbconvert_exporter": "python",
   "pygments_lexer": "ipython3",
   "version": "3.8.12"
  },
  "vscode": {
   "interpreter": {
    "hash": "db3f9596c5aba5087c9c8d1f1b99adecf5bd2d533081155cfbf15515ccfe8efa"
   }
  }
 },
 "nbformat": 4,
 "nbformat_minor": 2
}
