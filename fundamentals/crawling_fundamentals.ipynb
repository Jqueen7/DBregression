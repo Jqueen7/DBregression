{
 "cells": [
  {
   "cell_type": "code",
   "execution_count": 1,
   "metadata": {},
   "outputs": [],
   "source": [
    "import finterstellar as fs\n",
    "import pandas as pd\n",
    "import numpy as np\n",
    "import matplotlib.pyplot as plt"
   ]
  },
  {
   "cell_type": "code",
   "execution_count": 3,
   "metadata": {},
   "outputs": [],
   "source": [
    "myOTP = '16745426421021149799'"
   ]
  },
  {
   "cell_type": "code",
   "execution_count": 6,
   "metadata": {},
   "outputs": [],
   "source": [
    "df = fs.fn_single(otp = myOTP, symbol='TSLA',window='Q')"
   ]
  },
  {
   "cell_type": "code",
   "execution_count": 8,
   "metadata": {},
   "outputs": [
    {
     "data": {
      "text/plain": [
       "Index(['Revenue', 'COGS', 'Gross Profit', 'SG&A', 'Operating Income',\n",
       "       'Net Income', 'EPS', 'EBITDA', 'EBIT', 'Shares', 'Cash & Equivalents',\n",
       "       'Receivables', 'Inventory', 'Current Assets', 'Long Term Assets',\n",
       "       'Total Assets', 'Current Debt', 'Current Liabilities', 'Long Term Debt',\n",
       "       'Long Term Liabilities', 'Total Liabilities', 'Shareholders Equity',\n",
       "       'Depreciation', 'Operating Cash Flow', 'Capital Expenditure',\n",
       "       'Investing cash flow', 'Dividends', 'Financing cash flow', 'Price'],\n",
       "      dtype='object')"
      ]
     },
     "execution_count": 8,
     "metadata": {},
     "output_type": "execute_result"
    }
   ],
   "source": [
    "df.columns"
   ]
  },
  {
   "cell_type": "code",
   "execution_count": null,
   "metadata": {},
   "outputs": [],
   "source": []
  }
 ],
 "metadata": {
  "kernelspec": {
   "display_name": "base",
   "language": "python",
   "name": "python3"
  },
  "language_info": {
   "codemirror_mode": {
    "name": "ipython",
    "version": 3
   },
   "file_extension": ".py",
   "mimetype": "text/x-python",
   "name": "python",
   "nbconvert_exporter": "python",
   "pygments_lexer": "ipython3",
   "version": "3.8.12"
  },
  "orig_nbformat": 4,
  "vscode": {
   "interpreter": {
    "hash": "db3f9596c5aba5087c9c8d1f1b99adecf5bd2d533081155cfbf15515ccfe8efa"
   }
  }
 },
 "nbformat": 4,
 "nbformat_minor": 2
}
